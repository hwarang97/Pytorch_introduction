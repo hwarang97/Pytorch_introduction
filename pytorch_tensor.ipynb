{
  "nbformat": 4,
  "nbformat_minor": 0,
  "metadata": {
    "colab": {
      "provenance": [],
      "authorship_tag": "ABX9TyOiWTVfZzDxDQ/b9ULW33Rc",
      "include_colab_link": true
    },
    "kernelspec": {
      "name": "python3",
      "display_name": "Python 3"
    },
    "language_info": {
      "name": "python"
    },
    "gpuClass": "standard",
    "accelerator": "GPU"
  },
  "cells": [
    {
      "cell_type": "markdown",
      "metadata": {
        "id": "view-in-github",
        "colab_type": "text"
      },
      "source": [
        "<a href=\"https://colab.research.google.com/github/hwarang97/Pytorch_introduction/blob/main/pytorch_tensor.ipynb\" target=\"_parent\"><img src=\"https://colab.research.google.com/assets/colab-badge.svg\" alt=\"Open In Colab\"/></a>"
      ]
    },
    {
      "cell_type": "code",
      "execution_count": 1,
      "metadata": {
        "id": "GewBi2P7aDZK"
      },
      "outputs": [],
      "source": [
        "# tensor : 배열/행렬(numpy.narray) + GPU등의 가속기에 사용가능한 자료구조"
      ]
    },
    {
      "cell_type": "code",
      "source": [
        "import torch\n",
        "import numpy as np"
      ],
      "metadata": {
        "id": "h75YJ-7IaowE"
      },
      "execution_count": 2,
      "outputs": []
    },
    {
      "cell_type": "code",
      "source": [
        "# tensor 초기화 방법 1\n",
        "data = [[1,2], [3,4]]\n",
        "x_data = torch.tensor(data)"
      ],
      "metadata": {
        "id": "Fi-oNP9ua3P6"
      },
      "execution_count": 3,
      "outputs": []
    },
    {
      "cell_type": "code",
      "source": [
        "# numpy--> tensor 바꾸기\n",
        "np_array = np.array(data)\n",
        "x_np = torch.from_numpy(np_array)"
      ],
      "metadata": {
        "id": "_FRuC262bAx6"
      },
      "execution_count": 4,
      "outputs": []
    },
    {
      "cell_type": "code",
      "source": [
        "# tensor --> tensor\n",
        "x_ones = torch.ones_like(x_data)\n",
        "print(f'Ones Tensor : \\n {x_ones} \\n')\n",
        "\n",
        "x_rand = torch.rand_like(x_data, dtype=torch.float) # 기본 자료형 float를 안쓰고 torch.float를 쓰는 이유는 뭘까?\n",
        "print(f'Random Tensor: \\n {x_rand} \\n')"
      ],
      "metadata": {
        "colab": {
          "base_uri": "https://localhost:8080/"
        },
        "id": "y1gUDaB3bPny",
        "outputId": "98aa931f-016b-4bd4-edca-db058b4454bc"
      },
      "execution_count": 5,
      "outputs": [
        {
          "output_type": "stream",
          "name": "stdout",
          "text": [
            "Ones Tensor : \n",
            " tensor([[1, 1],\n",
            "        [1, 1]]) \n",
            "\n",
            "Random Tensor: \n",
            " tensor([[0.7020, 0.8445],\n",
            "        [0.3941, 0.7545]]) \n",
            "\n"
          ]
        }
      ]
    },
    {
      "cell_type": "code",
      "source": [
        "# tensor를 무작위값 또는 상수값으로 생성해보기\n",
        "shape = (2,3)\n",
        "rand_tensor = torch.rand(shape) # 무작위값으로 생성\n",
        "ones_tensor = torch.ones(shape) # 1값으로만 생성\n",
        "zeros_tensor = torch.zeros(shape) # 0값으로만 생성\n",
        "\n",
        "print(f'Random Tensor :\\n {rand_tensor} \\n')\n",
        "print(f'Ones Tensor :\\n {ones_tensor} \\n')\n",
        "print(f'zeros Tensor :\\n {zeros_tensor} \\n')"
      ],
      "metadata": {
        "colab": {
          "base_uri": "https://localhost:8080/"
        },
        "id": "hzulz_9WbqYK",
        "outputId": "8bf44ac6-8077-47e6-a041-b538ec609479"
      },
      "execution_count": 6,
      "outputs": [
        {
          "output_type": "stream",
          "name": "stdout",
          "text": [
            "Random Tensor :\n",
            " tensor([[0.6499, 0.5376, 0.6879],\n",
            "        [0.8562, 0.3510, 0.6349]]) \n",
            "\n",
            "Ones Tensor :\n",
            " tensor([[1., 1., 1.],\n",
            "        [1., 1., 1.]]) \n",
            "\n",
            "zeros Tensor :\n",
            " tensor([[0., 0., 0.],\n",
            "        [0., 0., 0.]]) \n",
            "\n"
          ]
        }
      ]
    },
    {
      "cell_type": "code",
      "source": [
        "# 텐서 속성 (shape, dtype, 어느장치에 저장되는지 등)\n",
        "tensor = torch.rand(3,4)\n",
        "\n",
        "print(f'Shape of tensor : {tensor.shape}')\n",
        "print(f'DataType of tensor : {tensor.dtype}')\n",
        "print(f'Device of tensor : {tensor.device}') # cpu라고 뜨면 cpu에서 진행되는것\n",
        "                                             # 가속기를 GPU로 바꾸었지만 여전히 CPU로 저장되고 있음"
      ],
      "metadata": {
        "colab": {
          "base_uri": "https://localhost:8080/"
        },
        "id": "6rETm-RrcssZ",
        "outputId": "4021b231-749f-438d-b0d9-55a3ec154de0"
      },
      "execution_count": 7,
      "outputs": [
        {
          "output_type": "stream",
          "name": "stdout",
          "text": [
            "Shape of tensor : torch.Size([3, 4])\n",
            "DataType of tensor : torch.float32\n",
            "Device of tensor : cpu\n"
          ]
        }
      ]
    },
    {
      "cell_type": "code",
      "source": [
        "# Tensor는 가속기에서 사용할 수 있는 자료구조\n",
        "\n",
        "# Colab에서는 GPU를 따로 배정받아야한다\n",
        "# GPU가 존재하면 텐서를 이동합니다 (기본적으로는 CPU에 배정됨)\n",
        "if torch.cuda.is_available():\n",
        "  tensor = tensor.to(\"cuda\")"
      ],
      "metadata": {
        "id": "RtumIlyJdIE9"
      },
      "execution_count": 9,
      "outputs": []
    },
    {
      "cell_type": "code",
      "source": [
        "print(f'Device of tensor : {tensor.device}') # 사용하는 명령어를 쳐야 GPU로 이동된다"
      ],
      "metadata": {
        "colab": {
          "base_uri": "https://localhost:8080/"
        },
        "id": "0vONou3ReBiR",
        "outputId": "a9eb5a95-4383-48f2-f060-450cb0b18bc3"
      },
      "execution_count": 11,
      "outputs": [
        {
          "output_type": "stream",
          "name": "stdout",
          "text": [
            "Device of tensor : cuda:0\n"
          ]
        }
      ]
    },
    {
      "cell_type": "code",
      "source": [
        "tensor = torch.ones(4,4)\n",
        "print(f'First row : {tensor[0]}')\n",
        "print(f'First column : {tensor[:,0]}')\n",
        "print(f'Last column : {tensor[:,-1]}')\n",
        "print(f'Device of tensor : {tensor.device}') # 다시 CPU로 돌아간걸 보면, 가속기를 사용할 tensor마다 GPU로 이동시켜야하는듯\n",
        "tensor[:,1] = 0\n",
        "print(tensor)"
      ],
      "metadata": {
        "colab": {
          "base_uri": "https://localhost:8080/"
        },
        "id": "1x0QOW5IeTwJ",
        "outputId": "9ea60dab-1acf-400f-bcbe-1e79c2eafeda"
      },
      "execution_count": 17,
      "outputs": [
        {
          "output_type": "stream",
          "name": "stdout",
          "text": [
            "First row : tensor([1., 1., 1., 1.])\n",
            "First column : tensor([1., 1., 1., 1.])\n",
            "Last column : tensor([1., 1., 1., 1.])\n",
            "Device of tensor : cpu\n",
            "tensor([[1., 0., 1., 1.],\n",
            "        [1., 0., 1., 1.],\n",
            "        [1., 0., 1., 1.],\n",
            "        [1., 0., 1., 1.]])\n"
          ]
        }
      ]
    },
    {
      "cell_type": "code",
      "source": [
        "t1 = torch.cat([tensor, tensor, tensor], dim=1) # 기존 텐서를 이용해서 새로운 텐서 붙여서 만들기\n",
        "print(t1)"
      ],
      "metadata": {
        "colab": {
          "base_uri": "https://localhost:8080/"
        },
        "id": "WzQHLXPCe7Wq",
        "outputId": "2201615a-bc59-48d5-e5d6-d7c7e8553b19"
      },
      "execution_count": 20,
      "outputs": [
        {
          "output_type": "stream",
          "name": "stdout",
          "text": [
            "tensor([[1., 0., 1., 1., 1., 0., 1., 1., 1., 0., 1., 1.],\n",
            "        [1., 0., 1., 1., 1., 0., 1., 1., 1., 0., 1., 1.],\n",
            "        [1., 0., 1., 1., 1., 0., 1., 1., 1., 0., 1., 1.],\n",
            "        [1., 0., 1., 1., 1., 0., 1., 1., 1., 0., 1., 1.]])\n"
          ]
        }
      ]
    },
    {
      "cell_type": "code",
      "source": [
        "#@title\n",
        "# 텐서곱(행렬곱)\n",
        "# y1, y2, y3는 모두 같은 값을 가짐\n",
        "\n",
        "y1 = tensor @ tensor.T           \n",
        "y2 = tensor.matmul(tensor.T) # 텐서 하나에서 연산 (matnul = matrix multiplizing)\n",
        "y3 = torch.rand_like(y1) # torch에서 텐서 연산\n",
        "torch.matmul(tensor, tensor.T, out=y3)\n",
        "\n",
        "print(f'y1 : \\n {y1} \\n')\n",
        "print(f'y2 : \\n {y2} \\n')\n",
        "print(f'y3 : \\n {y3} \\n')\n",
        "\n",
        "# 요소별 곱(element-wise product)을 계산합니다. z1, z2, z3는 모두 같은 값을 가짐\n",
        "z1 = tensor * tensor # 이거는 전치를 안하네\n",
        "z2 = tensor.mul(tensor)\n",
        "z3 = torch.rand_like(tensor)\n",
        "torch.mul(tensor, tensor, out=z3)\n",
        "\n",
        "print(f'z1 : \\n {z1} \\n')\n",
        "print(f'z2 : \\n {z2} \\n')\n",
        "print(f'z3 : \\n {z3} \\n')"
      ],
      "metadata": {
        "colab": {
          "base_uri": "https://localhost:8080/"
        },
        "id": "I_x-Vrv0fsrI",
        "outputId": "cb4c0a8c-9c2c-41c3-8657-39a9c3aa98ad"
      },
      "execution_count": 26,
      "outputs": [
        {
          "output_type": "stream",
          "name": "stdout",
          "text": [
            "y1 : \n",
            " tensor([[3., 3., 3., 3.],\n",
            "        [3., 3., 3., 3.],\n",
            "        [3., 3., 3., 3.],\n",
            "        [3., 3., 3., 3.]]) \n",
            "\n",
            "y2 : \n",
            " tensor([[3., 3., 3., 3.],\n",
            "        [3., 3., 3., 3.],\n",
            "        [3., 3., 3., 3.],\n",
            "        [3., 3., 3., 3.]]) \n",
            "\n",
            "y3 : \n",
            " tensor([[3., 3., 3., 3.],\n",
            "        [3., 3., 3., 3.],\n",
            "        [3., 3., 3., 3.],\n",
            "        [3., 3., 3., 3.]]) \n",
            "\n",
            "z1 : \n",
            " tensor([[1., 0., 1., 1.],\n",
            "        [1., 0., 1., 1.],\n",
            "        [1., 0., 1., 1.],\n",
            "        [1., 0., 1., 1.]]) \n",
            "\n",
            "z2 : \n",
            " tensor([[1., 0., 1., 1.],\n",
            "        [1., 0., 1., 1.],\n",
            "        [1., 0., 1., 1.],\n",
            "        [1., 0., 1., 1.]]) \n",
            "\n",
            "z3 : \n",
            " tensor([[1., 0., 1., 1.],\n",
            "        [1., 0., 1., 1.],\n",
            "        [1., 0., 1., 1.],\n",
            "        [1., 0., 1., 1.]]) \n",
            "\n"
          ]
        }
      ]
    },
    {
      "cell_type": "code",
      "source": [
        "# in_place 연산(요소별 연산정도로 해석)\n",
        "print(f'{tensor}\\n')\n",
        "tensor.add_(5)# 요소별로 5만큼 더하기\n",
        "print(tensor)"
      ],
      "metadata": {
        "colab": {
          "base_uri": "https://localhost:8080/"
        },
        "id": "hoB2nsakhtpF",
        "outputId": "936f5c2a-b6cb-4f29-dd78-f79b05feda89"
      },
      "execution_count": 28,
      "outputs": [
        {
          "output_type": "stream",
          "name": "stdout",
          "text": [
            "tensor([[1., 0., 1., 1.],\n",
            "        [1., 0., 1., 1.],\n",
            "        [1., 0., 1., 1.],\n",
            "        [1., 0., 1., 1.]])\n",
            "\n",
            "tensor([[6., 5., 6., 6.],\n",
            "        [6., 5., 6., 6.],\n",
            "        [6., 5., 6., 6.],\n",
            "        [6., 5., 6., 6.]])\n"
          ]
        }
      ]
    },
    {
      "cell_type": "code",
      "source": [
        "# Numpy bridge (공유 정도로 새거하면 될듯)\n",
        "# CPU상의 텐서와 Numpy 배열은 메모리 공간을 공유하기때문에, 하나를 변경하면 다른 하나도 변경된다\n",
        "# 주의할것은 Numpy는 CPU에서만 쓰이므로 CPU내에서만 공유가 성립\n",
        "\n",
        "t = torch.ones(5)\n",
        "print(f't: {t}\\n')\n",
        "n = t.numpy()\n",
        "print(f'n : {n}')"
      ],
      "metadata": {
        "colab": {
          "base_uri": "https://localhost:8080/"
        },
        "id": "1CxHxBxPiPI0",
        "outputId": "986cbb8b-c366-4f33-913d-8cf5fb82520d"
      },
      "execution_count": 31,
      "outputs": [
        {
          "output_type": "stream",
          "name": "stdout",
          "text": [
            "t: tensor([1., 1., 1., 1., 1.])\n",
            "\n",
            "n : [1. 1. 1. 1. 1.]\n"
          ]
        }
      ]
    },
    {
      "cell_type": "code",
      "source": [
        "# CPU내에서는 메모리가 공유되므로, 변경사항도 공유\n",
        "t.add_(1)\n",
        "print(f't: {t}\\n')\n",
        "print(f'n: {n}')"
      ],
      "metadata": {
        "colab": {
          "base_uri": "https://localhost:8080/"
        },
        "id": "UkHWnl1Ti6tg",
        "outputId": "c47da1e7-29a0-4dc4-9eb7-13f54c9889f4"
      },
      "execution_count": 32,
      "outputs": [
        {
          "output_type": "stream",
          "name": "stdout",
          "text": [
            "t: tensor([2., 2., 2., 2., 2.])\n",
            "\n",
            "n: [2. 2. 2. 2. 2.]\n"
          ]
        }
      ]
    },
    {
      "cell_type": "code",
      "source": [
        "# Numpy 배열을 텐서로 변환하기\n",
        "n = np.ones(5)\n",
        "t = torch.from_numpy(n)\n",
        "print(t)"
      ],
      "metadata": {
        "colab": {
          "base_uri": "https://localhost:8080/"
        },
        "id": "9LQDayu_jOqZ",
        "outputId": "67912f86-012b-4080-e1fa-18a792797368"
      },
      "execution_count": 33,
      "outputs": [
        {
          "output_type": "stream",
          "name": "stdout",
          "text": [
            "tensor([1., 1., 1., 1., 1.], dtype=torch.float64)\n"
          ]
        }
      ]
    }
  ]
}