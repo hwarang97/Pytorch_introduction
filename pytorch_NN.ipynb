{
  "nbformat": 4,
  "nbformat_minor": 0,
  "metadata": {
    "colab": {
      "provenance": [],
      "authorship_tag": "ABX9TyM29GGC99LDwK0ipTbDBH52",
      "include_colab_link": true
    },
    "kernelspec": {
      "name": "python3",
      "display_name": "Python 3"
    },
    "language_info": {
      "name": "python"
    },
    "accelerator": "GPU",
    "gpuClass": "standard"
  },
  "cells": [
    {
      "cell_type": "markdown",
      "metadata": {
        "id": "view-in-github",
        "colab_type": "text"
      },
      "source": [
        "<a href=\"https://colab.research.google.com/github/hwarang97/Pytorch_introduction/blob/main/pytorch_NN.ipynb\" target=\"_parent\"><img src=\"https://colab.research.google.com/assets/colab-badge.svg\" alt=\"Open In Colab\"/></a>"
      ]
    },
    {
      "cell_type": "markdown",
      "source": [
        "\n",
        "# 신경망 구축"
      ],
      "metadata": {
        "id": "kMwOMKAmqunM"
      }
    },
    {
      "cell_type": "markdown",
      "source": [
        "- torch.nn  --> 신경망 구성 요소 제공\n",
        "- nn.Module --> 모든 신경망 계층 다룸"
      ],
      "metadata": {
        "id": "z7eEiJNyqacw"
      }
    },
    {
      "cell_type": "code",
      "execution_count": 1,
      "metadata": {
        "id": "b8QZfz4VqQwU"
      },
      "outputs": [],
      "source": [
        "import os\n",
        "import torch\n",
        "from torch import nn\n",
        "from torch.utils.data import DataLoader # 데이터셋을 이터러블 객체로 만드는데 사용\n",
        "from torchvision import datasets, transforms # datasets : 데이터셋 제공"
      ]
    },
    {
      "cell_type": "code",
      "source": [
        "device = 'cuda' if torch.cuda.is_available() else 'cpu'\n",
        "print(f'Using {device} device') # gpu 사용 가능"
      ],
      "metadata": {
        "colab": {
          "base_uri": "https://localhost:8080/"
        },
        "id": "CyTeHjrBrXkf",
        "outputId": "42edcb37-edf7-4e8d-e16d-f3988ffe7c85"
      },
      "execution_count": 2,
      "outputs": [
        {
          "output_type": "stream",
          "name": "stdout",
          "text": [
            "Using cuda device\n"
          ]
        }
      ]
    },
    {
      "cell_type": "markdown",
      "source": [
        "## 클래스 정의하기\n",
        "\n",
        "1. 신경망 모델을 nn.Module의 하위 클래스로 선언\n",
        "2. __init__ 에서 신경망 계층들을 초기화\n",
        "3. nn.Module 을 상속받은 모든 클래스는 forward 메소드로 입력 데이터로 연산 수행"
      ],
      "metadata": {
        "id": "ZAY_YpdYsAEi"
      }
    },
    {
      "cell_type": "code",
      "source": [
        "class NN(nn.Module):\n",
        "  def __init__(self):\n",
        "    super(NN, self).__init__() # super 매개변수로 (하위클래스 이름, 하위클래스 객체) 가 넘겨진다 \n",
        "                               # 보통 부모 - 자식관계이므로, 생략하면 자식이 부모를 호출한다고 인식하고 생략되기도 함\n",
        "                               # 만약 조부모(A) - 부모(B) - 자식(C) 관계라고 한다면\n",
        "                               # 자식 선언시 매개변수를 생략하면 부모클래스를 호출하는것이 됨\n",
        "                               # 그러나 명시적으로 자식클래스에서 조부모(A)를 매개변수로 넣으면 super(B, self)\n",
        "                               # 부모(B)의 부모 클래스인 조부모(A) 클래스를 호출하는 것이 됨\n",
        "                               # 즉, 상황에 따른 설정이 가능하다는 것!!\n",
        "                               # 결론 : super(하위 클래스, 하위 클래스 객체인데 직속 하위가 아니여도 됨) \n",
        "\n",
        "    self.flatten = nn.Flatten()\n",
        "    self.linear_relu_stack = nn.Sequential(\n",
        "        nn.Linear(28*28, 512), # 28*28 개의 픽셀값을 입력받음 --> 512개의 뉴런에게 전달\n",
        "        nn.ReLU(),            \n",
        "        nn.Linear(512,512),    # 512개 뉴런 --> 512개 뉴런\n",
        "        nn.ReLU(),\n",
        "        nn.Linear(512,10),     # 512개 뉴런 --> 10개 뉴런 (분류할 이미지가 10종류라서)\n",
        "    )\n",
        "\n",
        "  def forward(self, x):                # 실제 모델 연산 구현\n",
        "    x = self.flatten(x)                # flatten 실행\n",
        "    logits = self.linear_relu_stack(x) # 설정한 linear, relu 연산 실행\n",
        "    return logits                      # 각 클래스별로 logit 값이 나옴 --> softmax 함수에 넣어서 확률로 변환"
      ],
      "metadata": {
        "id": "zVupH__4rsj6"
      },
      "execution_count": 3,
      "outputs": []
    },
    {
      "cell_type": "code",
      "source": [
        "model = NN().to(device)\n",
        "print(model)"
      ],
      "metadata": {
        "colab": {
          "base_uri": "https://localhost:8080/"
        },
        "id": "ayTTvP8vxNTK",
        "outputId": "cd7f65f4-7a06-4be4-a9f5-a8359ae0c7d6"
      },
      "execution_count": 4,
      "outputs": [
        {
          "output_type": "stream",
          "name": "stdout",
          "text": [
            "NN(\n",
            "  (flatten): Flatten(start_dim=1, end_dim=-1)\n",
            "  (linear_relu_stack): Sequential(\n",
            "    (0): Linear(in_features=784, out_features=512, bias=True)\n",
            "    (1): ReLU()\n",
            "    (2): Linear(in_features=512, out_features=512, bias=True)\n",
            "    (3): ReLU()\n",
            "    (4): Linear(in_features=512, out_features=10, bias=True)\n",
            "  )\n",
            ")\n"
          ]
        }
      ]
    },
    {
      "cell_type": "code",
      "source": [
        "# 임의의 이미지를 만들어서 작동시켜보기\n",
        "X = torch.rand(1, 28, 28, device=device)\n",
        "logits = model(X)                       # 각 클래스별 로짓값, tensor([[0.0015, 0.0578, ..., -0.0096]])\n",
        "pred_probab = nn.Softmax(dim=1)(logits) # 각 클래스별 확률 반환, tensor([[0.0992, 0.1050, ... , 0.0981]]) -> 2차원 배열 형식\n",
        "y_pred = pred_probab.argmax(1)          # 가장 큰 원소를 반환. numpy 계열 함수 <--> argmin \n",
        "                                        # dim=1은 열끼리 비교하도록 설정\n",
        "print(f'Predicted class : {y_pred}')"
      ],
      "metadata": {
        "colab": {
          "base_uri": "https://localhost:8080/"
        },
        "id": "U9J79UHWxTg2",
        "outputId": "862cc0f6-61ee-45ab-a352-5b5794d26181"
      },
      "execution_count": 5,
      "outputs": [
        {
          "output_type": "stream",
          "name": "stdout",
          "text": [
            "Predicted class : tensor([0], device='cuda:0')\n"
          ]
        }
      ]
    },
    {
      "cell_type": "markdown",
      "source": [
        "### Softmax(dim=1)(logits) 조사\n",
        "- 형식이 생소했고, 왜 이렇게 만들어졌는지 모르겠었음\n",
        "  - 내가 알던 양식은 객체 선언 시, 매개변수에 다 같이 넣는것 (softmax(logits, dim=1)    \n",
        "\n",
        "---\n",
        "- 조사한 것\n",
        "- SoftMax.__init__(self, dim) : 객체 선언시 받을 수 있는 인자는 최대 2개뿐. (logits는 생성시 같이 사용할 수 없음)\n",
        "- SoftMax.forward(self, input : Tensor) -> Tensor : 인자를 받아서 softmax 연산을 해주는 것을 보임. 아마도 logits을 받는 함수인듯\n",
        "- 결론 : nn.Softmax(dim=1) 은 객체를 생성한 것이고, 이후 객체 함수 forward를 이용해서 logits 을 처리한것"
      ],
      "metadata": {
        "id": "QdOSYNnAJy_B"
      }
    },
    {
      "cell_type": "markdown",
      "source": [
        "## 모델 계층(Layer)\n",
        "- 신경망에서 어떤 일이 벌어지는지 확인해보기"
      ],
      "metadata": {
        "id": "ZChMxtXODEDj"
      }
    },
    {
      "cell_type": "code",
      "source": [
        "# 임의의 입력 이미지 생성\n",
        "input_image = torch.rand(3, 28, 28) # 28*28 이미지 3장\n",
        "print(input_image.size())"
      ],
      "metadata": {
        "colab": {
          "base_uri": "https://localhost:8080/"
        },
        "id": "ZSujYaqoC_ss",
        "outputId": "b0b7e141-e983-497f-c0a0-7ef98d11dcc8"
      },
      "execution_count": 6,
      "outputs": [
        {
          "output_type": "stream",
          "name": "stdout",
          "text": [
            "torch.Size([3, 28, 28])\n"
          ]
        }
      ]
    },
    {
      "cell_type": "markdown",
      "source": [
        "### Flatten\n",
        "- Flatten 계층\n",
        "- 2D 이미지 --> 배열"
      ],
      "metadata": {
        "id": "FEldFLZ_D9OY"
      }
    },
    {
      "cell_type": "code",
      "source": [
        "flatten = nn.Flatten()\n",
        "flat_image = flatten(input_image)\n",
        "print(flat_image.size())"
      ],
      "metadata": {
        "colab": {
          "base_uri": "https://localhost:8080/"
        },
        "id": "NaVhYlvlD4t7",
        "outputId": "c9fee9c3-66b7-49a7-edea-ac99b01392cf"
      },
      "execution_count": 7,
      "outputs": [
        {
          "output_type": "stream",
          "name": "stdout",
          "text": [
            "torch.Size([3, 784])\n"
          ]
        }
      ]
    },
    {
      "cell_type": "markdown",
      "source": [
        "### Linear\n",
        "- 선형 계층\n",
        "- 뉴런별로 입력값에 가중치와 편향 값을 사용하여 선형방정식 만들어주는 모듈(코드)"
      ],
      "metadata": {
        "id": "xsSZqcO_ESrp"
      }
    },
    {
      "cell_type": "code",
      "source": [
        "layer1 = nn.Linear(in_features=28*28, out_features=20)\n",
        "hidden1 = layer1(flat_image)\n",
        "print(hidden1.size()) # tensor([3,20]), 선형 결과값이 이미지당 1개씩 총 3개"
      ],
      "metadata": {
        "colab": {
          "base_uri": "https://localhost:8080/"
        },
        "id": "XinxrjlcEQDm",
        "outputId": "f1b60b29-1290-408a-8bd8-5dcd57016e8c"
      },
      "execution_count": 8,
      "outputs": [
        {
          "output_type": "stream",
          "name": "stdout",
          "text": [
            "torch.Size([3, 20])\n"
          ]
        }
      ]
    },
    {
      "cell_type": "markdown",
      "source": [
        "### ReLU\n",
        "- 활성와 함수, 비선형성\n",
        "- 더 깊이있게 학습시키 위해서는 비선형성이 필요해서 도입됨"
      ],
      "metadata": {
        "id": "yT3YPodlFxxA"
      }
    },
    {
      "cell_type": "code",
      "source": [
        "print(f'Before ReLU : {hidden1}\\n\\n')\n",
        "hidden1 = nn.ReLU()(hidden1)"
      ],
      "metadata": {
        "colab": {
          "base_uri": "https://localhost:8080/"
        },
        "id": "sqFyoNmWE91B",
        "outputId": "e576f652-7aa1-4320-a739-429d2541343e"
      },
      "execution_count": 9,
      "outputs": [
        {
          "output_type": "stream",
          "name": "stdout",
          "text": [
            "Before ReLU : tensor([[-6.6460e-01,  1.4998e-01,  3.1055e-01,  5.2512e-02, -5.3694e-01,\n",
            "         -1.7473e-01, -3.7515e-01, -5.0756e-02, -2.0374e-01,  2.3192e-01,\n",
            "         -1.9434e-01,  7.2228e-01,  3.8014e-01, -2.5898e-01, -2.7894e-01,\n",
            "          5.0681e-01,  6.8300e-02, -3.2887e-01, -1.4381e-01,  8.3760e-03],\n",
            "        [-2.5751e-01,  4.7884e-01,  5.0942e-01,  5.6973e-02, -3.1149e-01,\n",
            "         -2.8223e-01, -4.6009e-01, -1.7541e-01,  5.9050e-02, -7.0161e-02,\n",
            "         -1.4262e-01,  4.2949e-01,  3.2752e-01, -1.5422e-01,  4.0095e-04,\n",
            "         -1.0780e-01,  2.4495e-02, -5.1550e-01, -4.4753e-01,  4.8999e-02],\n",
            "        [-1.1676e-02,  2.8649e-01,  7.7862e-01,  4.4517e-01, -1.1189e-01,\n",
            "         -5.3759e-01, -6.9004e-01, -1.5298e-01, -1.7292e-01,  1.1745e-01,\n",
            "          2.0234e-01,  4.3492e-01, -1.4537e-01, -5.8344e-01, -3.4567e-01,\n",
            "          4.8129e-01,  6.7047e-01, -6.6153e-01, -8.7367e-02, -1.5606e-01]],\n",
            "       grad_fn=<AddmmBackward0>)\n",
            "\n",
            "\n"
          ]
        }
      ]
    },
    {
      "cell_type": "markdown",
      "source": [
        "##  Sequential\n",
        "- 순서가 있는 모듈 컨테이너(= 사용하기 편하도록 미리 작성한 코드들을 순서대로 담아주는 객체)\n",
        "- 이걸 통해서 신경망 만들 수 있음"
      ],
      "metadata": {
        "id": "DUV3ZbAIQJiQ"
      }
    },
    {
      "cell_type": "code",
      "source": [
        "seq_modules = nn.Sequential(\n",
        "    flatten,\n",
        "    layer1,\n",
        "    nn.ReLU(),\n",
        "    nn.Linear(20, 10)\n",
        ")\n",
        "input_image = torch.rand(3,28,28)\n",
        "logits = seq_modules(input_image)"
      ],
      "metadata": {
        "id": "bKHh4l-NQFGR"
      },
      "execution_count": 12,
      "outputs": []
    },
    {
      "cell_type": "markdown",
      "source": [
        "## Softmax\n",
        "- logit 값을 반환해줌(= 선형값, 뉴런에 들어온값,을 로지스틱 함수,S자 모양, 에 넣어서 각 클래스별로 확률 값으로 바꿔줌. 이걸 osftmax가 합이 1이 되도록 클래스별로 확률을 조정해줌"
      ],
      "metadata": {
        "id": "bblZv8dqRYsW"
      }
    },
    {
      "cell_type": "code",
      "source": [
        "softmax = nn.Softmax(dim=1)\n",
        "pred_probab = softmax(logits)"
      ],
      "metadata": {
        "id": "iifut75xR_op"
      },
      "execution_count": 13,
      "outputs": []
    },
    {
      "cell_type": "markdown",
      "source": [
        "## 모델 매개변수\n",
        "- 신경망의 계층들의 모든 것들이 저장되며, 매개변수를 통해서 확인할 수 있음"
      ],
      "metadata": {
        "id": "fMPazjb2Sbe6"
      }
    },
    {
      "cell_type": "code",
      "source": [
        "print(f'Model structure: {model}\\n\\n')\n",
        "\n",
        "for name, param in model.named_parameters():\n",
        "  print(f'Layer: {name} | Size: {param.size()} | Values: {param[:2]} \\n')"
      ],
      "metadata": {
        "id": "0FNs-j9YSHXK",
        "outputId": "f2799378-fc02-450c-8ec2-578f93450586",
        "colab": {
          "base_uri": "https://localhost:8080/"
        }
      },
      "execution_count": 14,
      "outputs": [
        {
          "output_type": "stream",
          "name": "stdout",
          "text": [
            "Model structure: NN(\n",
            "  (flatten): Flatten(start_dim=1, end_dim=-1)\n",
            "  (linear_relu_stack): Sequential(\n",
            "    (0): Linear(in_features=784, out_features=512, bias=True)\n",
            "    (1): ReLU()\n",
            "    (2): Linear(in_features=512, out_features=512, bias=True)\n",
            "    (3): ReLU()\n",
            "    (4): Linear(in_features=512, out_features=10, bias=True)\n",
            "  )\n",
            ")\n",
            "\n",
            "\n",
            "Layer: linear_relu_stack.0.weight | Size: torch.Size([512, 784]) | Values: tensor([[-0.0190,  0.0250, -0.0021,  ..., -0.0141, -0.0009, -0.0172],\n",
            "        [ 0.0205, -0.0102, -0.0109,  ..., -0.0199, -0.0203, -0.0348]],\n",
            "       device='cuda:0', grad_fn=<SliceBackward0>) \n",
            "\n",
            "Layer: linear_relu_stack.0.bias | Size: torch.Size([512]) | Values: tensor([-0.0139, -0.0155], device='cuda:0', grad_fn=<SliceBackward0>) \n",
            "\n",
            "Layer: linear_relu_stack.2.weight | Size: torch.Size([512, 512]) | Values: tensor([[-0.0030,  0.0298, -0.0315,  ...,  0.0227,  0.0095,  0.0005],\n",
            "        [-0.0214, -0.0368, -0.0190,  ...,  0.0040, -0.0295,  0.0089]],\n",
            "       device='cuda:0', grad_fn=<SliceBackward0>) \n",
            "\n",
            "Layer: linear_relu_stack.2.bias | Size: torch.Size([512]) | Values: tensor([0.0075, 0.0260], device='cuda:0', grad_fn=<SliceBackward0>) \n",
            "\n",
            "Layer: linear_relu_stack.4.weight | Size: torch.Size([10, 512]) | Values: tensor([[-0.0331,  0.0368, -0.0406,  ..., -0.0300, -0.0040,  0.0030],\n",
            "        [ 0.0022,  0.0048, -0.0118,  ...,  0.0307,  0.0416, -0.0303]],\n",
            "       device='cuda:0', grad_fn=<SliceBackward0>) \n",
            "\n",
            "Layer: linear_relu_stack.4.bias | Size: torch.Size([10]) | Values: tensor([ 0.0393, -0.0370], device='cuda:0', grad_fn=<SliceBackward0>) \n",
            "\n"
          ]
        }
      ]
    }
  ]
}