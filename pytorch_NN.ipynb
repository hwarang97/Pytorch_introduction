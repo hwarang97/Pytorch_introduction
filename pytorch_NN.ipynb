{
  "nbformat": 4,
  "nbformat_minor": 0,
  "metadata": {
    "colab": {
      "provenance": [],
      "authorship_tag": "ABX9TyM15C0GLy2uAXUf4O35+dwc",
      "include_colab_link": true
    },
    "kernelspec": {
      "name": "python3",
      "display_name": "Python 3"
    },
    "language_info": {
      "name": "python"
    },
    "accelerator": "GPU",
    "gpuClass": "standard"
  },
  "cells": [
    {
      "cell_type": "markdown",
      "metadata": {
        "id": "view-in-github",
        "colab_type": "text"
      },
      "source": [
        "<a href=\"https://colab.research.google.com/github/hwarang97/Pytorch_introduction/blob/main/pytorch_NN.ipynb\" target=\"_parent\"><img src=\"https://colab.research.google.com/assets/colab-badge.svg\" alt=\"Open In Colab\"/></a>"
      ]
    },
    {
      "cell_type": "markdown",
      "source": [
        "\n",
        "# 신경망 구축"
      ],
      "metadata": {
        "id": "kMwOMKAmqunM"
      }
    },
    {
      "cell_type": "markdown",
      "source": [
        "- torch.nn  --> 신경망 구성 요소 제공\n",
        "- nn.Module --> 모든 신경망 계층 다룸"
      ],
      "metadata": {
        "id": "z7eEiJNyqacw"
      }
    },
    {
      "cell_type": "code",
      "execution_count": 2,
      "metadata": {
        "id": "b8QZfz4VqQwU"
      },
      "outputs": [],
      "source": [
        "import os\n",
        "import torch\n",
        "from torch import nn\n",
        "from torch.utils.data import DataLoader # 데이터셋을 이터러블 객체로 만드는데 사용\n",
        "from torchvision import datasets, transforms # datasets : 데이터셋 제공"
      ]
    },
    {
      "cell_type": "code",
      "source": [
        "device = 'cuda' if torch.cuda.is_available() else 'cpu'\n",
        "print(f'Using {device} device') # gpu 사용 가능"
      ],
      "metadata": {
        "colab": {
          "base_uri": "https://localhost:8080/"
        },
        "id": "CyTeHjrBrXkf",
        "outputId": "a9edde1d-48ab-4455-bd22-3be51d6aded7"
      },
      "execution_count": 4,
      "outputs": [
        {
          "output_type": "stream",
          "name": "stdout",
          "text": [
            "Using cuda device\n"
          ]
        }
      ]
    },
    {
      "cell_type": "markdown",
      "source": [
        "## 클래스 정의하기\n",
        "\n",
        "1. 신경망 모델을 nn.Module의 하위 클래스로 선언\n",
        "2. __init__ 에서 신경망 계층들을 초기화\n",
        "3. nn.Module 을 상속받은 모든 클래스는 forward 메소드로 입력 데이터로 연산 수행"
      ],
      "metadata": {
        "id": "ZAY_YpdYsAEi"
      }
    },
    {
      "cell_type": "code",
      "source": [
        "class NN(nn.Module):\n",
        "  def __init__(self):\n",
        "    super(NN, self).__init__() # super 매개변수로 (하위클래스 이름, 하위클래스 객체) 가 넘겨진다 \n",
        "                               # 보통 부모 - 자식관계이므로, 생략하면 자식이 부모를 호출한다고 인식하고 생략되기도 함\n",
        "                               # 만약 조부모(A) - 부모(B) - 자식(C) 관계라고 한다면\n",
        "                               # 자식 선언시 매개변수를 생략하면 부모클래스를 호출하는것이 됨\n",
        "                               # 그러나 명시적으로 자식클래스에서 조부모(A)를 매개변수로 넣으면 super(A, self)\n",
        "                               # 부모(B) 클래스를 건너뛰고 조부모(A) 클래스를 호출하는 것이 됨\n",
        "                               # 즉, 상황에 따른 설정이 가능하다는 것!!\n",
        "\n",
        "    self.flatten = nn.Flatten()\n",
        "    self.linear_relu_stack = nn.Sequential(\n",
        "        nn.Linear(28*28, 512), # 28*28 개의 픽셀값을 입력받음 --> 512개의 뉴런에게 전달\n",
        "        nn.ReLU(),            \n",
        "        nn.Linear(512,512),    # 512개 뉴런 --> 512개 뉴런\n",
        "        nn.ReLU(),\n",
        "        nn.Linear(512,10),     # 512개 뉴런 --> 10개 뉴런 (분류할 이미지가 10종류라서)\n",
        "    )\n",
        "\n",
        "  def forward(self, x):                # 실제 모델 연산 구현\n",
        "    x = self.flatten(x)                # flatten 실행\n",
        "    logits = self.linear_relu_stack(x) # 설정한 linear, relu 연산 실행\n",
        "    return logits                      # 각 클래스별로 logit 값이 나옴 --> softmax 함수에 넣어서 확률로 변환"
      ],
      "metadata": {
        "id": "zVupH__4rsj6"
      },
      "execution_count": 5,
      "outputs": []
    },
    {
      "cell_type": "code",
      "source": [
        "model = NN().to(device)\n",
        "print(model)"
      ],
      "metadata": {
        "colab": {
          "base_uri": "https://localhost:8080/"
        },
        "id": "ayTTvP8vxNTK",
        "outputId": "2e87fd89-1be9-49de-f15e-11d742767826"
      },
      "execution_count": 6,
      "outputs": [
        {
          "output_type": "stream",
          "name": "stdout",
          "text": [
            "NN(\n",
            "  (flatten): Flatten(start_dim=1, end_dim=-1)\n",
            "  (linear_relu_stack): Sequential(\n",
            "    (0): Linear(in_features=784, out_features=512, bias=True)\n",
            "    (1): ReLU()\n",
            "    (2): Linear(in_features=512, out_features=512, bias=True)\n",
            "    (3): ReLU()\n",
            "    (4): Linear(in_features=512, out_features=10, bias=True)\n",
            "  )\n",
            ")\n"
          ]
        }
      ]
    },
    {
      "cell_type": "code",
      "source": [
        "# 임의의 이미지를 만들어서 작동시켜보기\n",
        "X = torch.rand(1, 28, 28, device=device)\n",
        "logits = model(X)                       # 각 클래스별 로짓값, tensor([[0.0015, 0.0578, ..., -0.0096]])\n",
        "pred_probab = nn.Softmax(dim=1)(logits) # 각 클래스별 확률 반환, tensor([[0.0992, 0.1050, ... , 0.0981]]) -> 2차원 배열 형식\n",
        "y_pred = pred_probab.argmax(1)          # 가장 큰 원소를 반환. numpy 계열 함수 <--> argmin \n",
        "                                        # dim=1은 열끼리 비교하도록 설정\n",
        "print(f'Predicted class : {y_pred}')"
      ],
      "metadata": {
        "colab": {
          "base_uri": "https://localhost:8080/"
        },
        "id": "U9J79UHWxTg2",
        "outputId": "12740f2e-3dd3-475e-e2ae-292f980ef45f"
      },
      "execution_count": 26,
      "outputs": [
        {
          "output_type": "stream",
          "name": "stdout",
          "text": [
            "Predicted class : tensor([6], device='cuda:0')\n"
          ]
        }
      ]
    },
    {
      "cell_type": "code",
      "source": [
        "dir(nn.Softmax)"
      ],
      "metadata": {
        "colab": {
          "base_uri": "https://localhost:8080/"
        },
        "id": "JMTc0_UvLr9Z",
        "outputId": "34414214-b5ee-4838-bb1b-5816773994f9"
      },
      "execution_count": 27,
      "outputs": [
        {
          "output_type": "execute_result",
          "data": {
            "text/plain": [
              "['T_destination',\n",
              " '__annotations__',\n",
              " '__call__',\n",
              " '__class__',\n",
              " '__constants__',\n",
              " '__delattr__',\n",
              " '__dict__',\n",
              " '__dir__',\n",
              " '__doc__',\n",
              " '__eq__',\n",
              " '__format__',\n",
              " '__ge__',\n",
              " '__getattr__',\n",
              " '__getattribute__',\n",
              " '__gt__',\n",
              " '__hash__',\n",
              " '__init__',\n",
              " '__init_subclass__',\n",
              " '__le__',\n",
              " '__lt__',\n",
              " '__module__',\n",
              " '__ne__',\n",
              " '__new__',\n",
              " '__reduce__',\n",
              " '__reduce_ex__',\n",
              " '__repr__',\n",
              " '__setattr__',\n",
              " '__setstate__',\n",
              " '__sizeof__',\n",
              " '__str__',\n",
              " '__subclasshook__',\n",
              " '__weakref__',\n",
              " '_apply',\n",
              " '_call_impl',\n",
              " '_get_backward_hooks',\n",
              " '_get_name',\n",
              " '_load_from_state_dict',\n",
              " '_maybe_warn_non_full_backward_hook',\n",
              " '_named_members',\n",
              " '_register_load_state_dict_pre_hook',\n",
              " '_register_state_dict_hook',\n",
              " '_replicate_for_data_parallel',\n",
              " '_save_to_state_dict',\n",
              " '_slow_forward',\n",
              " '_version',\n",
              " 'add_module',\n",
              " 'apply',\n",
              " 'bfloat16',\n",
              " 'buffers',\n",
              " 'children',\n",
              " 'cpu',\n",
              " 'cuda',\n",
              " 'double',\n",
              " 'dump_patches',\n",
              " 'eval',\n",
              " 'extra_repr',\n",
              " 'float',\n",
              " 'forward',\n",
              " 'get_buffer',\n",
              " 'get_extra_state',\n",
              " 'get_parameter',\n",
              " 'get_submodule',\n",
              " 'half',\n",
              " 'ipu',\n",
              " 'load_state_dict',\n",
              " 'modules',\n",
              " 'named_buffers',\n",
              " 'named_children',\n",
              " 'named_modules',\n",
              " 'named_parameters',\n",
              " 'parameters',\n",
              " 'register_backward_hook',\n",
              " 'register_buffer',\n",
              " 'register_forward_hook',\n",
              " 'register_forward_pre_hook',\n",
              " 'register_full_backward_hook',\n",
              " 'register_load_state_dict_post_hook',\n",
              " 'register_module',\n",
              " 'register_parameter',\n",
              " 'requires_grad_',\n",
              " 'set_extra_state',\n",
              " 'share_memory',\n",
              " 'state_dict',\n",
              " 'to',\n",
              " 'to_empty',\n",
              " 'train',\n",
              " 'type',\n",
              " 'xpu',\n",
              " 'zero_grad']"
            ]
          },
          "metadata": {},
          "execution_count": 27
        }
      ]
    },
    {
      "cell_type": "markdown",
      "source": [
        "### Softmax(dim=1)(logits) 조사\n",
        "- 형식이 생소했고, 왜 이렇게 만들어졌는지 모르겠었음\n",
        "  - 내가 알던 양식은 객체 선언 시, 매개변수에 다 같이 넣는것 (softmax(logits, dim=1)    \n",
        "\n",
        "---\n",
        "- 조사한 것\n",
        "- SoftMax.__init__(self, dim) : 객체 선언시 받을 수 있는 인자는 최대 2개뿐. (logits는 생성시 같이 사용할 수 없음)\n",
        "- SoftMax.forward(self, input : Tensor) -> Tensor : 인자를 받아서 softmax 연산을 해주는 것을 보임. 아마도 logits을 받는 함수인듯\n",
        "- 결론 : nn.Softmax(dim=1) 은 객체를 생성한 것이고, 이후 객체 함수 forward를 이용해서 logits 을 처리한것"
      ],
      "metadata": {
        "id": "QdOSYNnAJy_B"
      }
    },
    {
      "cell_type": "markdown",
      "source": [
        "## 모델 계층(Layer)\n",
        "- 신경망에서 어떤 일이 벌어지는지 확인해보기"
      ],
      "metadata": {
        "id": "ZChMxtXODEDj"
      }
    },
    {
      "cell_type": "code",
      "source": [
        "# 임의의 입력 이미지 생성\n",
        "input_image = torch.rand(3, 28, 28) # 28*28 이미지 3장\n",
        "print(input_image.size())"
      ],
      "metadata": {
        "colab": {
          "base_uri": "https://localhost:8080/"
        },
        "id": "ZSujYaqoC_ss",
        "outputId": "0d63d960-9674-4f91-b5e7-b3c978226715"
      },
      "execution_count": 21,
      "outputs": [
        {
          "output_type": "stream",
          "name": "stdout",
          "text": [
            "torch.Size([3, 28, 28])\n"
          ]
        }
      ]
    },
    {
      "cell_type": "markdown",
      "source": [
        "### Flatten\n",
        "- Flatten 계층\n",
        "- 2D 이미지 --> 배열"
      ],
      "metadata": {
        "id": "FEldFLZ_D9OY"
      }
    },
    {
      "cell_type": "code",
      "source": [
        "flatten = nn.Flatten()\n",
        "flat_image = flatten(input_image)\n",
        "print(flat_image.size())"
      ],
      "metadata": {
        "colab": {
          "base_uri": "https://localhost:8080/"
        },
        "id": "NaVhYlvlD4t7",
        "outputId": "eb0c34b0-1dbd-42f0-c6cd-9ab35fe97b64"
      },
      "execution_count": 22,
      "outputs": [
        {
          "output_type": "stream",
          "name": "stdout",
          "text": [
            "torch.Size([3, 784])\n"
          ]
        }
      ]
    },
    {
      "cell_type": "markdown",
      "source": [
        "### Linear\n",
        "- 선형 계층\n",
        "- 뉴런별로 입력값에 가중치와 편향 값을 사용하여 선형방정식 만들어주는 모듈(코드)"
      ],
      "metadata": {
        "id": "xsSZqcO_ESrp"
      }
    },
    {
      "cell_type": "code",
      "source": [
        "layer1 = nn.Linear(in_features=28*28, out_features=20)\n",
        "hidden1 = layer1(flat_image)\n",
        "print(hidden1.size()) # tensor([3,20]), 선형 결과값이 이미지당 1개씩 총 3개"
      ],
      "metadata": {
        "colab": {
          "base_uri": "https://localhost:8080/"
        },
        "id": "XinxrjlcEQDm",
        "outputId": "36d3286a-b397-43f9-9231-9985f54d0426"
      },
      "execution_count": 23,
      "outputs": [
        {
          "output_type": "stream",
          "name": "stdout",
          "text": [
            "torch.Size([3, 20])\n"
          ]
        }
      ]
    },
    {
      "cell_type": "markdown",
      "source": [
        "### ReLU\n",
        "- 활성와 함수, 비선형성\n",
        "- 더 깊이있게 학습시키 위해서는 비선형성이 필요해서 도입됨"
      ],
      "metadata": {
        "id": "yT3YPodlFxxA"
      }
    },
    {
      "cell_type": "code",
      "source": [
        "print(f'Before ReLU : {hidden1}\\n\\n')\n",
        "hidden1 = nn.ReLU()(hidden1)"
      ],
      "metadata": {
        "colab": {
          "base_uri": "https://localhost:8080/"
        },
        "id": "sqFyoNmWE91B",
        "outputId": "b3143ece-f012-45aa-ac54-7ed0ebedf7fe"
      },
      "execution_count": 24,
      "outputs": [
        {
          "output_type": "execute_result",
          "data": {
            "text/plain": [
              "tensor([[-0.0698, -0.1330,  0.1825,  0.7029,  0.4213, -0.2612, -0.5774,  0.0167,\n",
              "          0.0318, -0.2689,  0.3557, -0.3781,  0.2111,  0.2366, -0.1016,  0.3706,\n",
              "          0.0350, -0.3127,  0.2891,  0.1211],\n",
              "        [-0.2330, -0.1554,  0.0498,  0.2508,  0.3912,  0.1016, -0.2031, -0.0235,\n",
              "         -0.1681, -0.4620,  0.5852, -0.3686,  0.0066,  0.0294, -0.1325,  0.5242,\n",
              "         -0.1223, -0.3144,  0.2957,  0.2386],\n",
              "        [-0.1887, -0.1668, -0.0645,  0.2120,  0.6192, -0.3331,  0.0113,  0.3721,\n",
              "         -0.0940, -0.7104,  0.6013, -0.1680,  0.2121,  0.0492, -0.3345,  0.4411,\n",
              "         -0.0422, -0.1261,  0.3761,  0.2442]], grad_fn=<AddmmBackward0>)"
            ]
          },
          "metadata": {},
          "execution_count": 24
        }
      ]
    }
  ]
}