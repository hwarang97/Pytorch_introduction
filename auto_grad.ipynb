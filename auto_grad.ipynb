{
  "nbformat": 4,
  "nbformat_minor": 0,
  "metadata": {
    "colab": {
      "provenance": [],
      "authorship_tag": "ABX9TyOk1LNKP4tgZmia9cq/eabO",
      "include_colab_link": true
    },
    "kernelspec": {
      "name": "python3",
      "display_name": "Python 3"
    },
    "language_info": {
      "name": "python"
    }
  },
  "cells": [
    {
      "cell_type": "markdown",
      "metadata": {
        "id": "view-in-github",
        "colab_type": "text"
      },
      "source": [
        "<a href=\"https://colab.research.google.com/github/hwarang97/Pytorch_introduction/blob/main/auto_grad.ipynb\" target=\"_parent\"><img src=\"https://colab.research.google.com/assets/colab-badge.svg\" alt=\"Open In Colab\"/></a>"
      ]
    },
    {
      "cell_type": "code",
      "execution_count": 1,
      "metadata": {
        "id": "YY0kkz-WzjdA"
      },
      "outputs": [],
      "source": [
        "import torch"
      ]
    },
    {
      "cell_type": "code",
      "source": [
        "x = torch.ones(5) # 입력값\n",
        "y = torch.zeros(3) # 실제값\n",
        "w = torch.randn(5, 3, requires_grad=True) # 가중치\n",
        "b = torch.randn(3, requires_grad=True) # 편향\n",
        "z = torch.matmul(x, w) + b # 예측값\n",
        "loss = torch.nn.functional.binary_cross_entropy_with_logits(z, y) # 손실함수"
      ],
      "metadata": {
        "id": "rhKyh_65znX6"
      },
      "execution_count": 10,
      "outputs": []
    },
    {
      "cell_type": "code",
      "source": [
        "# requires_grad : 각 층의 퍼셉트론이 출력값을 저장함. 기본값은 True"
      ],
      "metadata": {
        "id": "50b2-q2K0mfy"
      },
      "execution_count": 11,
      "outputs": []
    },
    {
      "cell_type": "code",
      "source": [
        "loss.backward()\n",
        "print(w.grad)\n",
        "print(b.grad)"
      ],
      "metadata": {
        "colab": {
          "base_uri": "https://localhost:8080/"
        },
        "id": "rQo83S-h1zzc",
        "outputId": "2e9966e4-8b88-4da4-cc29-57234b54fa10"
      },
      "execution_count": 12,
      "outputs": [
        {
          "output_type": "stream",
          "name": "stdout",
          "text": [
            "tensor([[0.3211, 0.3149, 0.3319],\n",
            "        [0.3211, 0.3149, 0.3319],\n",
            "        [0.3211, 0.3149, 0.3319],\n",
            "        [0.3211, 0.3149, 0.3319],\n",
            "        [0.3211, 0.3149, 0.3319]])\n",
            "tensor([0.3211, 0.3149, 0.3319])\n"
          ]
        }
      ]
    },
    {
      "cell_type": "code",
      "source": [
        "z = torch.matmul(x, w) + b\n",
        "print(z.requires_grad)"
      ],
      "metadata": {
        "colab": {
          "base_uri": "https://localhost:8080/"
        },
        "id": "9w1T7Ie15WWs",
        "outputId": "38cc40eb-a2d1-40d9-abef-6df89b5abc9d"
      },
      "execution_count": 13,
      "outputs": [
        {
          "output_type": "stream",
          "name": "stdout",
          "text": [
            "True\n"
          ]
        }
      ]
    },
    {
      "cell_type": "code",
      "source": [
        "with torch.no_grad(): # with문 동안 뒤에 있는것이 유요하고, 끝나면 없던걸로\n",
        "  z = torch.matmul(x, w) + b\n",
        "print(z.requires_grad)"
      ],
      "metadata": {
        "colab": {
          "base_uri": "https://localhost:8080/"
        },
        "id": "Ggwyc2GG5sE2",
        "outputId": "33a4cde0-567a-4e2b-98d4-19e0cd9ab1ce"
      },
      "execution_count": 14,
      "outputs": [
        {
          "output_type": "stream",
          "name": "stdout",
          "text": [
            "False\n"
          ]
        }
      ]
    }
  ]
}