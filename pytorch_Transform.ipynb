{
  "nbformat": 4,
  "nbformat_minor": 0,
  "metadata": {
    "colab": {
      "provenance": [],
      "authorship_tag": "ABX9TyN0+ccv20cuhrxZdD030Az5",
      "include_colab_link": true
    },
    "kernelspec": {
      "name": "python3",
      "display_name": "Python 3"
    },
    "language_info": {
      "name": "python"
    }
  },
  "cells": [
    {
      "cell_type": "markdown",
      "metadata": {
        "id": "view-in-github",
        "colab_type": "text"
      },
      "source": [
        "<a href=\"https://colab.research.google.com/github/hwarang97/Pytorch_introduction/blob/main/pytorch_Transform.ipynb\" target=\"_parent\"><img src=\"https://colab.research.google.com/assets/colab-badge.svg\" alt=\"Open In Colab\"/></a>"
      ]
    },
    {
      "cell_type": "markdown",
      "source": [
        "## Trnasform\n",
        "\n",
        "- 데이터는 학습 전에 모델에 맞는 형태로 바꿔야함\n",
        "- 데이터를 조작(transform)을 통해 학습에 적합하게 만듬\n",
        "- transform = preprocessing 정도로 생각하면 될듯"
      ],
      "metadata": {
        "id": "oKl7JHVFIamT"
      }
    },
    {
      "cell_type": "markdown",
      "source": [
        "### 새로운 용어\n",
        "\n",
        "- PIL : Python Image Library\n",
        "- PIL Images : 파이썬에서 이미지 분석 및 처리에 제공하는 이미지"
      ],
      "metadata": {
        "id": "mx_ZpqXOIzg2"
      }
    },
    {
      "cell_type": "markdown",
      "source": [
        "### FashionMNIST 특징\n",
        "\n",
        "- PIL Image 형식 ( 그냥 이미지 )\n",
        "- label은 정수형 ( 원핫인코딩이 안되있다는말)\n",
        "  - 아래의 것들이 필요함\n",
        "  - 정규화된 텐서\n",
        "  - 레이블을 원핫인코딩"
      ],
      "metadata": {
        "id": "lLc0y627JFXm"
      }
    },
    {
      "cell_type": "markdown",
      "source": [
        "##### scatter_() 사용법\n",
        "\n",
        "- torch.Tensor.scatter_(dim, indices, src, value)\n",
        "- Tensor로 src 또는 value 값을 넣어줄건데, dim 방향으로 indeces에 명시된 대로 실행\n",
        "- dim : 접근 방향 (0, 1, 2, ...)\n",
        "- indices : src 에서 숫자를 Tensor의 어디로 옮길지 명시\n",
        "- value : indices에 지정된 숫자를 대입\n",
        "- 예\n",
        "  - 1. x = torch.rand(2,5)\n",
        "  - 1. torch.zeros(3,5).scatter_(0, torch.tensor([[0,1,2,0,0], [2,0,0,1,2]]), x)\n",
        "  - 1. 이떄는 3행 5열의 0으로 이루어진 Tensor 객체에 (1열 0행에 x의 1열 0행값, 1열 3행에 x의 1열 2행값을 대입하는식\n",
        "  - 1. indices는 dim에 의해서 범위가 결정되는데, dim=0이면 행끼리 비교하여 인덱스를 지정하다고 보고,dim=1이면 열끼리 인덱스를 비교하게 된다\n",
        "  - 1. dim=0이면 세로로 인덱스를 매겨서 비교하고, dim=1이면 가로로 인덱스를 설정\n"
      ],
      "metadata": {
        "id": "OeB99S_t6kEn"
      }
    },
    {
      "cell_type": "code",
      "execution_count": 14,
      "metadata": {
        "id": "U2p94AgPHSpm"
      },
      "outputs": [],
      "source": [
        "import torch\n",
        "from torchvision import datasets\n",
        "from torchvision.transforms import ToTensor, Lambda\n",
        "\n",
        "ds = datasets.FashionMNIST(\n",
        "    root='data',\n",
        "    train=True,\n",
        "    download=True,\n",
        "    transform=ToTensor(),       # 이미지(PIL Image)나 넘파이 배열을 TloatTensor로 변환하고, 이미지의 픽셀값을 0~1 사이로 정규화시켜줌 (직접 255.0으로 나눌 필요가 없다는 뜻!)\n",
        "    target_transform=Lambda(lambda y : torch.zeros(10, dtype=torch.float).scatter_(0, torch.tensor(y), value=1))     \n",
        "    # y = 0~9 중에 하나. zeros(10)은 벡터로 0이 10개 있는 텐서. dim=0인 이유는 0번째 자리에 있는 축을 의미. y는 라벨값이며 이것이 인덱스역할수행\n",
        "    # 이걸 통해서 y으로 원핫 인코딩된 값을 생성\n",
        ")                                                                                                                    "
      ]
    }
  ]
}